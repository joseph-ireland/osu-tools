{
 "cells": [
  {
   "cell_type": "code",
   "execution_count": 25,
   "metadata": {},
   "outputs": [],
   "source": [
    "import numpy as np \n",
    "from ipywidgets import widgets, interact, interact_manual\n",
    "from matplotlib import pyplot as plt\n",
    "import subprocess\n",
    "import json\n",
    "import math \n",
    "from collections import namedtuple\n",
    "import time\n",
    "\n",
    "perf_calc_path = R\".\\bin\\Release\\netcoreapp3.1\\PerformanceCalculator.dll\"\n",
    "\n",
    "\n",
    "\n",
    "def getData(correction, dstart, dend, dcount, bounds=5, count=50):\n",
    "    \n",
    "    dspacing = 0 if dcount==1 else (dend-dstart)/(dcount-1)\n",
    "\n",
    "    spacing = 2*bounds/(count-1)\n",
    "    result = subprocess.run(\n",
    "        f\"dotnet {perf_calc_path} visualise {correction} -s {dstart} -c {dcount} -d {dspacing} -s {-bounds} -c {count} -d {spacing} -s {-bounds} -c {count} -d {spacing}\",\n",
    "        encoding=\"UTF8\",\n",
    "        stdout=subprocess.PIPE,\n",
    "        stderr=subprocess.PIPE    \n",
    "        )\n",
    "    try:\n",
    "        result.check_returncode()\n",
    "        arr = json.loads(result.stdout)\n",
    "        return np.array(arr)\n",
    "    except:\n",
    "        print(result.stderr)\n",
    "        print(result.stdout)\n",
    "        raise\n",
    "\n",
    "def plot(fig, ax, data, size, title):\n",
    "    heatmap = ax.imshow(data,origin=\"lower\", extent=(-size,size,-size,size), interpolation=\"bilinear\")\n",
    "    ax.set_title(title)\n",
    "    fig.colorbar(heatmap, ax=ax)\n",
    "    return heatmap"
   ]
  },
  {
   "cell_type": "code",
   "execution_count": 28,
   "metadata": {},
   "outputs": [
    {
     "output_type": "execute_result",
     "data": {
      "text/plain": "'Microsoft (R) Build Engine version 16.5.0+d4cbfca49 for .NET Core\\nCopyright (C) Microsoft Corporation. All rights reserved.\\n\\n  Restore completed in 48.15 ms for c:\\\\Users\\\\Joseph\\\\source\\\\repos\\\\osu-tools-delta\\\\PerformanceCalculator\\\\PerformanceCalculator.csproj.\\n  Restore completed in 47.65 ms for c:\\\\Users\\\\Joseph\\\\source\\\\repos\\\\osu-tools-delta\\\\osu\\\\osu.Game.Rulesets.Osu\\\\osu.Game.Rulesets.Osu.csproj.\\n  Restore completed in 47.74 ms for c:\\\\Users\\\\Joseph\\\\source\\\\repos\\\\osu-tools-delta\\\\osu\\\\osu.Game.Rulesets.Mania\\\\osu.Game.Rulesets.Mania.csproj.\\n  Restore completed in 47.63 ms for c:\\\\Users\\\\Joseph\\\\source\\\\repos\\\\osu-tools-delta\\\\osu\\\\osu.Game.Rulesets.Taiko\\\\osu.Game.Rulesets.Taiko.csproj.\\n  Restore completed in 47.73 ms for c:\\\\Users\\\\Joseph\\\\source\\\\repos\\\\osu-tools-delta\\\\osu\\\\osu.Game\\\\osu.Game.csproj.\\n  Restore completed in 47.67 ms for c:\\\\Users\\\\Joseph\\\\source\\\\repos\\\\osu-tools-delta\\\\osu\\\\osu.Game.Rulesets.Catch\\\\osu.Game.Rulesets.Catch.csproj.\\n  osu.Game -> c:\\\\Users\\\\Joseph\\\\source\\\\repos\\\\osu-tools-delta\\\\osu\\\\osu.Game\\\\bin\\\\Release\\\\netstandard2.1\\\\osu.Game.dll\\n  osu.Game.Rulesets.Catch -> c:\\\\Users\\\\Joseph\\\\source\\\\repos\\\\osu-tools-delta\\\\osu\\\\osu.Game.Rulesets.Catch\\\\bin\\\\Release\\\\netstandard2.1\\\\osu.Game.Rulesets.Catch.dll\\n  osu.Game.Rulesets.Mania -> c:\\\\Users\\\\Joseph\\\\source\\\\repos\\\\osu-tools-delta\\\\osu\\\\osu.Game.Rulesets.Mania\\\\bin\\\\Release\\\\netstandard2.1\\\\osu.Game.Rulesets.Mania.dll\\n  osu.Game.Rulesets.Taiko -> c:\\\\Users\\\\Joseph\\\\source\\\\repos\\\\osu-tools-delta\\\\osu\\\\osu.Game.Rulesets.Taiko\\\\bin\\\\Release\\\\netstandard2.1\\\\osu.Game.Rulesets.Taiko.dll\\n  osu.Game.Rulesets.Osu -> c:\\\\Users\\\\Joseph\\\\source\\\\repos\\\\osu-tools-delta\\\\osu\\\\osu.Game.Rulesets.Osu\\\\bin\\\\Release\\\\netstandard2.1\\\\osu.Game.Rulesets.Osu.dll\\n  PerformanceCalculator -> c:\\\\Users\\\\Joseph\\\\source\\\\repos\\\\osu-tools-delta\\\\PerformanceCalculator\\\\bin\\\\Release\\\\netcoreapp3.1\\\\PerformanceCalculator.dll\\n\\nBuild succeeded.\\n    0 Warning(s)\\n    0 Error(s)\\n\\nTime Elapsed 00:00:02.05\\n'"
     },
     "metadata": {},
     "execution_count": 28
    }
   ],
   "source": [
    "print(subprocess.run(\n",
    "        f\"dotnet build -c Release\",\n",
    "        encoding=\"UTF8\",\n",
    "        stdout=subprocess.PIPE,\n",
    "        stderr=subprocess.PIPE    \n",
    "        ).stdout)"
   ]
  },
  {
   "cell_type": "code",
   "execution_count": 26,
   "metadata": {},
   "outputs": [
    {
     "output_type": "display_data",
     "data": {
      "text/plain": "interactive(children=(Dropdown(description='corr', options=('FLOW_0', 'SNAP_0', 'FLOW_3', 'SNAP_3'), value='FL…",
      "application/vnd.jupyter.widget-view+json": {
       "version_major": 2,
       "version_minor": 0,
       "model_id": "fbc4fd3e0082479684d96a93081cf323"
      }
     },
     "metadata": {}
    }
   ],
   "source": [
    "\n",
    "@interact_manual(corr=[\"FLOW_0\",\"SNAP_0\",\"FLOW_3\",\"SNAP_3\"], plot_scale=(0,20), d_start=(0.0,20.0), d_end=(0.0,20.0), d_count=(1,10))\n",
    "def make_plots(corr=\"FLOW_0\", plot_scale=8, d_start=0, d_end=6, d_count=2):\n",
    "    data = getData(corr, d_start, d_end, d_count, plot_scale)\n",
    "    old_data = getData(corr+\"_OLD\",  d_start, d_end, d_count, plot_scale)\n",
    "    diff_data = data-old_data\n",
    "    fig, axes = plt.subplots(d_count,3, figsize=(20,4.5*d_count))\n",
    "    fig.suptitle(f\"{corr}\")\n",
    "    step = 0 if d_count==1 else (d_end-d_start)/(d_count-1)\n",
    "    if d_count==1:\n",
    "        axes = np.array([axes])\n",
    "    for i in range(d_count):\n",
    "        d = d_start+i*step\n",
    "        new = plot(fig, axes[i, 0], data[i].T, plot_scale, f\"Interpolated d={d}\")\n",
    "        old = plot(fig, axes[i, 1], old_data[i].T, plot_scale, f\"Old d={d}\")\n",
    "        delta = plot(fig, axes[i, 2], diff_data[i].T, plot_scale, f\"Diff d={d}\")\n",
    "    plt.show()\n",
    "\n",
    "\n",
    "\n"
   ]
  },
  {
   "cell_type": "code",
   "execution_count": null,
   "metadata": {},
   "outputs": [],
   "source": []
  }
 ],
 "metadata": {
  "language_info": {
   "codemirror_mode": {
    "name": "ipython",
    "version": 3
   },
   "file_extension": ".py",
   "mimetype": "text/x-python",
   "name": "python",
   "nbconvert_exporter": "python",
   "pygments_lexer": "ipython3",
   "version": "3.6.6-final"
  },
  "orig_nbformat": 2,
  "kernelspec": {
   "name": "python36664bitvenvvenv31d42d96177245b5a4dbda50cde1822a",
   "display_name": "Python 3.6.6 64-bit ('.venv': venv)"
  }
 },
 "nbformat": 4,
 "nbformat_minor": 2
}